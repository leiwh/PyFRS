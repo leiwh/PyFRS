{
 "cells": [
  {
   "cell_type": "code",
   "execution_count": 1,
   "metadata": {},
   "outputs": [],
   "source": [
    "import numpy as np\n",
    "import matplotlib.pyplot as plt\n",
    "import cgs,fs,rs"
   ]
  },
  {
   "cell_type": "code",
   "execution_count": 2,
   "metadata": {},
   "outputs": [],
   "source": [
    "Z={ 'z':         0.1,              # Redshift\n",
    "    'k':         0,                # Medium density profile index\n",
    "    'SSC':       'No',             # SSC\n",
    "    'XIC':       'No',             # EIC\n",
    "    'E0':        1.e53,            # Isotropic-equivalent energy in erg\n",
    "    'Gamma0':    2.,               # Initial bulk Lorentz factor\n",
    "    'theta_j':   5.,               # Jet opening angle\n",
    "    'theta_obs': 2.8,              # Viewing angle in deg\n",
    "    'n18':       1.,               # CNM density at 10^18cm\n",
    "    'p':         2.2,              # Electron energy distribution index\n",
    "    'epsilon_e': 0.1,              # Fraction of the shock energy into electrons\n",
    "    'epsilon_B': 0.01 }           # Fraction of the shock energy in magnetic field    \n"
   ]
  },
  {
   "cell_type": "code",
   "execution_count": 3,
   "metadata": {},
   "outputs": [],
   "source": [
    "t=np.geomspace(1.e3,1.e7,500)\n",
    "nu=np.empty(t.shape)\n",
    "nu[:]=1.e15"
   ]
  },
  {
   "cell_type": "code",
   "execution_count": 7,
   "metadata": {},
   "outputs": [],
   "source": [
    "Fnu=fs.FS_flux(t,nu,**Z)"
   ]
  },
  {
   "cell_type": "code",
   "execution_count": 8,
   "metadata": {},
   "outputs": [
    {
     "data": {
      "text/plain": [
       "[<matplotlib.lines.Line2D at 0x7fb47d701580>]"
      ]
     },
     "execution_count": 8,
     "metadata": {},
     "output_type": "execute_result"
    },
    {
     "data": {
      "image/png": "[encoded data removed]",
      "text/plain": [
       "<Figure size 432x288 with 1 Axes>"
      ]
     },
     "metadata": {
      "needs_background": "light"
     },
     "output_type": "display_data"
    }
   ],
   "source": [
    "plt.plot(np.log10(t),np.log10(Fnu))"
   ]
  },
  {
   "cell_type": "code",
   "execution_count": 14,
   "metadata": {},
   "outputs": [
    {
     "name": "stdout",
     "output_type": "stream",
     "text": [
      "Saving figure lc.png\n"
     ]
    }
   ],
   "source": [
    "fig,ax=plt.subplots(1,1)\n",
    "ax.plot(t,Fnu)\n",
    "ax.set(xscale='log', xlabel=r'$t$ (s)',\n",
    "       yscale='log', ylabel=r'$F_\\nu$[$10^{9}$ Hz] (mJy)')\n",
    "\n",
    "fig.tight_layout()\n",
    "print(\"Saving figure lc.png\")\n",
    "fig.savefig(\"lc.png\")\n",
    "plt.close(fig)"
   ]
  },
  {
   "cell_type": "code",
   "execution_count": 4,
   "metadata": {},
   "outputs": [],
   "source": [
    "Fnu=rs.RS_flux(t,nu,**Z)"
   ]
  },
  {
   "cell_type": "code",
   "execution_count": 5,
   "metadata": {},
   "outputs": [
    {
     "data": {
      "text/plain": [
       "[<matplotlib.lines.Line2D at 0x7fbba871c640>]"
      ]
     },
     "execution_count": 5,
     "metadata": {},
     "output_type": "execute_result"
    },
    {
     "data": {
      "image/png": "[encoded data removed]",
      "text/plain": [
       "<Figure size 432x288 with 1 Axes>"
      ]
     },
     "metadata": {
      "needs_background": "light"
     },
     "output_type": "display_data"
    }
   ],
   "source": [
    "plt.plot(np.log10(t),np.log10(Fnu))"
   ]
  },
  {
   "cell_type": "code",
   "execution_count": null,
   "metadata": {},
   "outputs": [],
   "source": []
  }
 ],
 "metadata": {
  "kernelspec": {
   "display_name": "base",
   "language": "python",
   "name": "python3"
  },
  "language_info": {
   "codemirror_mode": {
    "name": "ipython",
    "version": 3
   },
   "file_extension": ".py",
   "mimetype": "text/x-python",
   "name": "python",
   "nbconvert_exporter": "python",
   "pygments_lexer": "ipython3",
   "version": "3.9.7"
  },
  "vscode": {
   "interpreter": {
    "hash": "5d5727baf96e20f3ff6d9eb9958f1aee38dd4ea4d6cb478932055b20d56a57e6"
   }
  }
 },
 "nbformat": 4,
 "nbformat_minor": 2
}
