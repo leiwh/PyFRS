{
 "cells": [
  {
   "cell_type": "code",
   "execution_count": 1,
   "metadata": {},
   "outputs": [],
   "source": [
    "import numpy as np\n",
    "import matplotlib.pyplot as plt\n",
    "import cgs,fs"
   ]
  },
  {
   "cell_type": "code",
   "execution_count": 2,
   "metadata": {},
   "outputs": [],
   "source": [
    "Z={ 'z':         0.1,              # Redshift\n",
    "    'k':         0,                # Medium density profile index\n",
    "    'SSC':       'No',             # SSC\n",
    "    'XIC':       'No',             # EIC\n",
    "    'E0':        1.e53,            # Isotropic-equivalent energy in erg\n",
    "    'Gamma0':    2.,               # Initial bulk Lorentz factor\n",
    "    'theta_j':   5.,               # Jet opening angle\n",
    "    'theta_obs': 2.8,              # Viewing angle in deg\n",
    "    'n18':       1.,               # CNM density at 10^18cm\n",
    "    'p':         2.2,              # Electron energy distribution index\n",
    "    'epsilon_e': 0.1,              # Fraction of the shock energy into electrons\n",
    "    'epsilon_B': 0.01 }           # Fraction of the shock energy in magnetic field    \n"
   ]
  },
  {
   "cell_type": "code",
   "execution_count": 9,
   "metadata": {},
   "outputs": [],
   "source": [
    "ta = 1.0e-1 * cgs.day\n",
    "tb = 1.0e3 * cgs.day\n",
    "t = np.geomspace(ta, tb, num=100)\n",
    "\n",
    "nuR=np.empty(t.shape)\n",
    "nuO=np.empty(t.shape)\n",
    "nuX=np.empty(t.shape)\n",
    "\n",
    "nuR[:] = 6.0e9\n",
    "nuO[:] = 1.0e14\n",
    "nuX[:] = 1.0e18"
   ]
  },
  {
   "cell_type": "code",
   "execution_count": 10,
   "metadata": {},
   "outputs": [
    {
     "name": "stdout",
     "output_type": "stream",
     "text": [
      "Calc Radio\n",
      "Calc Optical\n",
      "Calc X-ray\n"
     ]
    }
   ],
   "source": [
    "print(\"Calc Radio\")\n",
    "FnuR = fs.FS_flux(t, nuR, **Z)\n",
    "print(\"Calc Optical\")\n",
    "FnuO = fs.FS_flux(t, nuO, **Z)\n",
    "print(\"Calc X-ray\")\n",
    "FnuX = fs.FS_flux(t, nuX, **Z)"
   ]
  },
  {
   "cell_type": "code",
   "execution_count": 12,
   "metadata": {},
   "outputs": [
    {
     "name": "stdout",
     "output_type": "stream",
     "text": [
      "Plot\n",
      "Saving lc_multi.png\n"
     ]
    }
   ],
   "source": [
    "print(\"Plot\")\n",
    "\n",
    "tday = t / cgs.day\n",
    "\n",
    "fig, ax = plt.subplots(1, 1)\n",
    "ax.plot(tday, FnuR, ls='-', label=r'$\\nu=6$ GHz')\n",
    "ax.plot(tday, FnuO, ls='--', label=r'$\\nu=10^{14}$ Hz')\n",
    "ax.plot(tday, FnuX, ls='-.', label=r'$\\nu=10^{18}$ Hz')\n",
    "ax.set_xscale('log')\n",
    "ax.set_yscale('log')\n",
    "ax.set_xlabel(r'$t$ (d)')\n",
    "ax.set_ylabel(r'$F_\\nu$ (mJy)')\n",
    "ax.legend()\n",
    "fig.tight_layout()\n",
    "\n",
    "print(\"Saving lc_multi.png\")\n",
    "fig.savefig(\"lc_multi.png\")\n",
    "plt.close(fig)"
   ]
  }
 ],
 "metadata": {
  "kernelspec": {
   "display_name": "base",
   "language": "python",
   "name": "python3"
  },
  "language_info": {
   "codemirror_mode": {
    "name": "ipython",
    "version": 3
   },
   "file_extension": ".py",
   "mimetype": "text/x-python",
   "name": "python",
   "nbconvert_exporter": "python",
   "pygments_lexer": "ipython3",
   "version": "3.9.7"
  },
  "vscode": {
   "interpreter": {
    "hash": "5d5727baf96e20f3ff6d9eb9958f1aee38dd4ea4d6cb478932055b20d56a57e6"
   }
  }
 },
 "nbformat": 4,
 "nbformat_minor": 2
}
