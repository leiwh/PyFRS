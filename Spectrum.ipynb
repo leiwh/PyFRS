{
 "cells": [
  {
   "cell_type": "code",
   "execution_count": 1,
   "metadata": {},
   "outputs": [],
   "source": [
    "import numpy as np\n",
    "import matplotlib.pyplot as plt\n",
    "try:\n",
    "    from PyFRS import cgs,fs\n",
    "except ImportError:\n",
    "    import cgs,fs"
   ]
  },
  {
   "cell_type": "code",
   "execution_count": 28,
   "metadata": {},
   "outputs": [],
   "source": [
    "Z={ 'z':         0.1,              # Redshift\n",
    "    'k':         0,                # Medium density profile index\n",
    "    'SSC':       'Yes',             # SSC\n",
    "    'XIC':       'No',             # EIC\n",
    "    'E0':        5.e53,            # Isotropic-equivalent energy in erg\n",
    "    'Gamma0':    100.,               # Initial bulk Lorentz factor\n",
    "    'theta_j':   5.,               # Jet opening angle\n",
    "    'theta_obs': 2.8,              # Viewing angle in deg\n",
    "    'n18':       1.,               # CNM density at 10^18cm\n",
    "    'p':         2.5,              # Electron energy distribution index\n",
    "    'epsilon_e': 0.2,              # Fraction of the shock energy into electrons\n",
    "    'epsilon_B': 0.01 }           # Fraction of the shock energy in magnetic field    \n"
   ]
  },
  {
   "cell_type": "code",
   "execution_count": 29,
   "metadata": {},
   "outputs": [],
   "source": [
    "nua = 1.0e0   # Low Frequencies in Hz\n",
    "nub = 1.0e23  # High Frequencies in Hz\n",
    "\n",
    "nu = np.geomspace(nua, nub, num=100)\n",
    "\n",
    "t = np.empty(nu.shape)\n",
    "\n",
    "t[:] = 1.0 * cgs.day  # spectrum at 1 day\n"
   ]
  },
  {
   "cell_type": "code",
   "execution_count": 30,
   "metadata": {},
   "outputs": [
    {
     "name": "stdout",
     "output_type": "stream",
     "text": [
      "Calculating Spectrum\n"
     ]
    }
   ],
   "source": [
    "print(\"Calculating Spectrum\")\n",
    "Fnu = fs.FS_flux(t, nu, **Z)"
   ]
  },
  {
   "cell_type": "code",
   "execution_count": 31,
   "metadata": {},
   "outputs": [
    {
     "data": {
      "text/plain": [
       "[<matplotlib.lines.Line2D at 0x7f01dd907410>]"
      ]
     },
     "execution_count": 31,
     "metadata": {},
     "output_type": "execute_result"
    },
    {
     "data": {
      "image/png": "[encoded data removed]",
      "text/plain": [
       "<Figure size 640x480 with 1 Axes>"
      ]
     },
     "metadata": {},
     "output_type": "display_data"
    }
   ],
   "source": [
    "plt.plot(np.log10(nu),np.log10(Fnu))"
   ]
  },
  {
   "cell_type": "code",
   "execution_count": 32,
   "metadata": {},
   "outputs": [
    {
     "name": "stdout",
     "output_type": "stream",
     "text": [
      "Plotting\n",
      "Saving figure spec.png\n"
     ]
    }
   ],
   "source": [
    "print(\"Plotting\")\n",
    "fig, ax = plt.subplots(1, 1)\n",
    "\n",
    "ax.plot(nu, Fnu)\n",
    "\n",
    "ax.set_xscale('log')\n",
    "ax.set_yscale('log')\n",
    "ax.set_xlabel(r'$\\nu$ (Hz)')\n",
    "ax.set_ylabel(r'$F_\\nu$[1 day] (mJy)')\n",
    "\n",
    "fig.tight_layout()\n",
    "print(\"Saving figure spec.png\")\n",
    "fig.savefig(\"spec.png\")\n",
    "plt.close(fig)"
   ]
  },
  {
   "cell_type": "code",
   "execution_count": null,
   "metadata": {},
   "outputs": [],
   "source": []
  }
 ],
 "metadata": {
  "kernelspec": {
   "display_name": "base",
   "language": "python",
   "name": "python3"
  },
  "language_info": {
   "codemirror_mode": {
    "name": "ipython",
    "version": 3
   },
   "file_extension": ".py",
   "mimetype": "text/x-python",
   "name": "python",
   "nbconvert_exporter": "python",
   "pygments_lexer": "ipython3",
   "version": "3.12.7"
  },
  "vscode": {
   "interpreter": {
    "hash": "5d5727baf96e20f3ff6d9eb9958f1aee38dd4ea4d6cb478932055b20d56a57e6"
   }
  }
 },
 "nbformat": 4,
 "nbformat_minor": 2
}
